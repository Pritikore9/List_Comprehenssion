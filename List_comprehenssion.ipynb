{
 "cells": [
  {
   "cell_type": "markdown",
   "id": "0a0f1201",
   "metadata": {},
   "source": [
    "##### List comprehensions provide a concise way to create lists. It consists of brackets containing an expression followed by a for clause. then zero or more for or if clauses. The expressions can be anything, meaning you can put in all kinds of objects in list"
   ]
  },
  {
   "cell_type": "code",
   "execution_count": 1,
   "id": "397e5d4a",
   "metadata": {},
   "outputs": [],
   "source": [
    "lst1=[]\n",
    "def lst_square(lst):\n",
    "    for i in lst:\n",
    "         lst1.append(i*i)\n",
    "    return lst1"
   ]
  },
  {
   "cell_type": "code",
   "execution_count": 2,
   "id": "2eb72ba4",
   "metadata": {},
   "outputs": [
    {
     "data": {
      "text/plain": [
       "[1, 4, 9, 16, 25, 36, 49, 64, 81]"
      ]
     },
     "execution_count": 2,
     "metadata": {},
     "output_type": "execute_result"
    }
   ],
   "source": [
    "lst_square([1,2,3,4,5,6,7,8,9])"
   ]
  },
  {
   "cell_type": "code",
   "execution_count": 4,
   "id": "2077c121",
   "metadata": {},
   "outputs": [
    {
     "data": {
      "text/plain": [
       "[1, 4, 9, 16, 25, 36, 49, 64, 81]"
      ]
     },
     "execution_count": 4,
     "metadata": {},
     "output_type": "execute_result"
    }
   ],
   "source": [
    "lst=[1,2,3,4,5,6,7,8,9]\n",
    "[i*i for i in lst]"
   ]
  },
  {
   "cell_type": "code",
   "execution_count": 5,
   "id": "bf5c15a1",
   "metadata": {},
   "outputs": [
    {
     "data": {
      "text/plain": [
       "[4, 16, 36, 64]"
      ]
     },
     "execution_count": 5,
     "metadata": {},
     "output_type": "execute_result"
    }
   ],
   "source": [
    "[i*i for i in lst if i%2==0]"
   ]
  },
  {
   "cell_type": "code",
   "execution_count": 6,
   "id": "351d69e9",
   "metadata": {},
   "outputs": [],
   "source": [
    "# this list comprehension avoids the defining the function and complecated codes"
   ]
  },
  {
   "cell_type": "code",
   "execution_count": 10,
   "id": "6546554e",
   "metadata": {},
   "outputs": [
    {
     "name": "stdout",
     "output_type": "stream",
     "text": [
      "[4, 6, 58, 98]\n",
      "[5, 3, 9]\n"
     ]
    }
   ],
   "source": [
    "lk=[5,3,4,6,58,9,98]\n",
    "even=[]\n",
    "odd=[]\n",
    "for x in lk:\n",
    "    if x%2==0:\n",
    "        even.append(x)\n",
    "    else:\n",
    "        odd.append(x)\n",
    "print(even)\n",
    "print(odd)"
   ]
  },
  {
   "cell_type": "code",
   "execution_count": 13,
   "id": "e3f16bf7",
   "metadata": {},
   "outputs": [],
   "source": [
    "lc=[x for x in lk if x%2==0]\n",
    "lc_odd=[x for x in lk if x%2!=0]"
   ]
  },
  {
   "cell_type": "code",
   "execution_count": 14,
   "id": "a66783ac",
   "metadata": {},
   "outputs": [
    {
     "data": {
      "text/plain": [
       "[4, 6, 58, 98]"
      ]
     },
     "execution_count": 14,
     "metadata": {},
     "output_type": "execute_result"
    }
   ],
   "source": [
    "lc"
   ]
  },
  {
   "cell_type": "code",
   "execution_count": 15,
   "id": "8c46a8b7",
   "metadata": {},
   "outputs": [
    {
     "data": {
      "text/plain": [
       "[5, 3, 9]"
      ]
     },
     "execution_count": 15,
     "metadata": {},
     "output_type": "execute_result"
    }
   ],
   "source": [
    "lc_odd"
   ]
  },
  {
   "cell_type": "code",
   "execution_count": 19,
   "id": "cd8a7add",
   "metadata": {},
   "outputs": [
    {
     "name": "stdout",
     "output_type": "stream",
     "text": [
      "fruits=['apple', 'kiwi', 'pear']\n"
     ]
    }
   ],
   "source": [
    "fruits=['apple','kiwi','pear']\n",
    "print(f\"{fruits=}\")"
   ]
  },
  {
   "cell_type": "code",
   "execution_count": 21,
   "id": "6c425c8b",
   "metadata": {},
   "outputs": [
    {
     "name": "stdout",
     "output_type": "stream",
     "text": [
      "first_letters=['a', 'k', 'p']\n"
     ]
    }
   ],
   "source": [
    "first_letters=[x[0] for x in fruits]\n",
    "print(f\"{first_letters=}\")"
   ]
  },
  {
   "cell_type": "code",
   "execution_count": 23,
   "id": "7ded5cf2",
   "metadata": {},
   "outputs": [
    {
     "name": "stdout",
     "output_type": "stream",
     "text": [
      "['kiwi', 'pear']\n"
     ]
    }
   ],
   "source": [
    "short_name=[x for x in fruits if len(x)<5]\n",
    "print(f\"{short_name}\")"
   ]
  },
  {
   "cell_type": "markdown",
   "id": "bea50463",
   "metadata": {},
   "source": [
    "# square the numbers in list"
   ]
  },
  {
   "cell_type": "code",
   "execution_count": 24,
   "id": "f5cf4eec",
   "metadata": {},
   "outputs": [
    {
     "name": "stdout",
     "output_type": "stream",
     "text": [
      "[529, 16, 125316, 4225, 5776, 7569]\n"
     ]
    }
   ],
   "source": [
    "lst=[23,4,354,65,76,87]\n",
    "squared=[x**2 for x in lst]\n",
    "print(squared)"
   ]
  },
  {
   "cell_type": "markdown",
   "id": "903a1d1a",
   "metadata": {},
   "source": [
    "# Converting the string to int by list comprehension"
   ]
  },
  {
   "cell_type": "code",
   "execution_count": 25,
   "id": "a7b74e0f",
   "metadata": {},
   "outputs": [],
   "source": [
    "l=['23','54','67','98','99']\n",
    "l2=[int(x) for x in l]"
   ]
  },
  {
   "cell_type": "code",
   "execution_count": 26,
   "id": "0db1d582",
   "metadata": {},
   "outputs": [
    {
     "data": {
      "text/plain": [
       "[23, 54, 67, 98, 99]"
      ]
     },
     "execution_count": 26,
     "metadata": {},
     "output_type": "execute_result"
    }
   ],
   "source": [
    "l2"
   ]
  },
  {
   "cell_type": "code",
   "execution_count": 30,
   "id": "bf135351",
   "metadata": {
    "scrolled": true
   },
   "outputs": [
    {
     "name": "stdout",
     "output_type": "stream",
     "text": [
      "<class 'str'>\n",
      "<class 'int'>\n"
     ]
    }
   ],
   "source": [
    "print(type(l[0]))\n",
    "print(type(l2[0]))"
   ]
  },
  {
   "cell_type": "markdown",
   "id": "e8147aab",
   "metadata": {},
   "source": [
    "use list comprehension"
   ]
  },
  {
   "cell_type": "code",
   "execution_count": 37,
   "id": "d5d06a62",
   "metadata": {},
   "outputs": [],
   "source": [
    "numbers=[x*2 for x in range(1,21)]"
   ]
  },
  {
   "cell_type": "code",
   "execution_count": 38,
   "id": "e6e60dfd",
   "metadata": {},
   "outputs": [
    {
     "data": {
      "text/plain": [
       "[2, 4, 6, 8, 10, 12, 14, 16, 18, 20, 22, 24, 26, 28, 30, 32, 34, 36, 38, 40]"
      ]
     },
     "execution_count": 38,
     "metadata": {},
     "output_type": "execute_result"
    }
   ],
   "source": [
    "numbers"
   ]
  },
  {
   "cell_type": "code",
   "execution_count": 34,
   "id": "55b00e5b",
   "metadata": {},
   "outputs": [
    {
     "name": "stdout",
     "output_type": "stream",
     "text": [
      "['APPLE', 'BANANA', 'GRAPES', 'KIWI']\n"
     ]
    }
   ],
   "source": [
    "words=['apple','banana','grapes','kiwi']\n",
    "uppercase=[word.upper() for word in words]\n",
    "print(uppercase)"
   ]
  },
  {
   "cell_type": "code",
   "execution_count": null,
   "id": "76a1f167",
   "metadata": {},
   "outputs": [],
   "source": []
  }
 ],
 "metadata": {
  "kernelspec": {
   "display_name": "Python 3 (ipykernel)",
   "language": "python",
   "name": "python3"
  },
  "language_info": {
   "codemirror_mode": {
    "name": "ipython",
    "version": 3
   },
   "file_extension": ".py",
   "mimetype": "text/x-python",
   "name": "python",
   "nbconvert_exporter": "python",
   "pygments_lexer": "ipython3",
   "version": "3.9.12"
  }
 },
 "nbformat": 4,
 "nbformat_minor": 5
}
